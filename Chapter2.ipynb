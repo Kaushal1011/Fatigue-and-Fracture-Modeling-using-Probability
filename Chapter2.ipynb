{
 "cells": [
  {
   "cell_type": "markdown",
   "metadata": {},
   "source": [
    "<link href=\"https://fonts.googleapis.com/css?family=IBM+Plex+Mono|IBM+Plex+Sans&display=swap\" rel=\"stylesheet\">\n",
    "<div title=\"head\" style=\"font-family: 'IBM Plex Mono', monospace; font-size:40px; text-align: right;\">2.Discrete Random Variables</div>\n",
    "\n",
    "\n",
    "\n",
    "---\n",
    "A __Random Variable__ is a real-valued function of the outcome of the experiment\n",
    "\n",
    "\n",
    "A __Discrete Random Variable__ can take a finte or countably infinte number of values\n",
    "\n",
    "A Discrete Random Variable has an associated __Probability Mass Distribution Function (PMF)__\n",
    "\n",
    "$$p_X(x) = P(\\{X=x\\})$$\n",
    "\n",
    "$$p_X(x) = P(X=x)$$\n",
    "\n",
    "$$\\sum_x p_X(x)=1$$\n",
    "\n",
    "$$P(X\\in S) = \\sum_{X\\in S}p_X(x)$$\n"
   ]
  },
  {
   "cell_type": "markdown",
   "metadata": {},
   "source": [
    "---\n",
    "## The Bernouli Random Variable\n",
    "---\n",
    "_Bernouli Random Variable_ takes two values __1__ or __0__\n",
    "\n",
    "$$ \n",
    "X = \\begin{cases}\n",
    "    0, & \\text{if a head,}\\\\\n",
    "    1, & \\text{if a tail.}\\\\\n",
    "    \\end{cases}\n",
    "$$\n",
    "\n",
    "__Its PMF is__\n",
    "$$\n",
    "p_X(k) = \\begin{cases}\n",
    "p,  & \\text{if k = 1.}\\\\\n",
    "1-p,& \\text{if k = 0.}\\\\\n",
    "\\end{cases}\n",
    "$$\n",
    "\n",
    "Expected value and Variance,\n",
    "$$\n",
    "E[X] = 1.p +0.(1-p) = p \\\\\n",
    "E[x^2] = 1^2.p + 0.(1-p) = p \\\\\n",
    "var(X) = E[X^2] - (E[X])^2 = p - p^2 = p(1-p)\n",
    "$$"
   ]
  },
  {
   "cell_type": "code",
   "execution_count": 2,
   "metadata": {},
   "outputs": [
    {
     "data": {
      "image/png": "[encoded data removed]",
      "text/plain": [
       "<Figure size 432x288 with 1 Axes>"
      ]
     },
     "metadata": {
      "needs_background": "light"
     },
     "output_type": "display_data"
    },
    {
     "name": "stdout",
     "output_type": "stream",
     "text": [
      "\n",
      "Expected Value E[X]: 0.5  = p\n",
      "The var(x): 0.25\n"
     ]
    }
   ],
   "source": [
    "import numpy as np\n",
    "import matplotlib.pyplot as plt\n",
    "\n",
    "p = 0.5\n",
    "\n",
    "x = np.array([0,1])\n",
    "p_x = np.array([1-p,p])\n",
    "\n",
    "plt.plot(x,p_x,'ro')\n",
    "plt.show();\n",
    "\n",
    "E_x = (x*p_x).sum()\n",
    "\n",
    "print('\\nExpected Value E[X]:',E_x, \" = p\")\n",
    "\n",
    "\n",
    "var_x = (((x-E_x)**2)*p_x).sum()\n",
    "print(\"The var(x):\",var_x)"
   ]
  },
  {
   "cell_type": "markdown",
   "metadata": {},
   "source": [
    "---\n",
    "## The Binomial Random Variable \n",
    "---\n",
    "A coin tossed n times, with probability of head is _p_ and tail is _1-p_, and the tosses are _independent_. Let X be heads in n-toss. X is a __binomial random variable__ with parameters __n__ and __p__.\n",
    "__its PMF is,__\n",
    "\n",
    "$$\n",
    "p_X = P(X = k) = {n \\choose k} p^k(1-p)^{n-k} \\\\\n",
    "\\sum_{k=0}^{n} {n \\choose k}p^k(1-p)^{n-k} = 1\n",
    "$$"
   ]
  },
  {
   "cell_type": "code",
   "execution_count": 25,
   "metadata": {},
   "outputs": [
    {
     "data": {
      "image/png": "[encoded data removed]",
      "text/plain": [
       "<Figure size 432x288 with 1 Axes>"
      ]
     },
     "metadata": {
      "needs_background": "light"
     },
     "output_type": "display_data"
    },
    {
     "name": "stdout",
     "output_type": "stream",
     "text": [
      "\n",
      "Expected Value E[X]: 1.999998976000001  = np\n",
      "The var(x): 1.5999934463993715\n"
     ]
    }
   ],
   "source": [
    "from scipy.special import comb\n",
    "n = 10\n",
    "p = 0.2\n",
    "\n",
    "k = np.arange(n)\n",
    "n_a = n*np.ones(n)\n",
    "p_x = comb(n_a,k)*(p**k)*(1-p)**(n-k)\n",
    "\n",
    "plt.bar(k,p_x,width=0.15)\n",
    "plt.show()\n",
    "\n",
    "E_x = (k*p_x).sum()\n",
    "\n",
    "print('\\nExpected Value E[X]:',E_x,\" = np\")\n",
    "\n",
    "var_x = ((k-E_x)**2*p_x).sum()\n",
    "print(\"The var(x):\",var_x)"
   ]
  },
  {
   "cell_type": "markdown",
   "metadata": {},
   "source": [
    "---\n",
    "## The Geometric Random Variable \n",
    "---\n",
    "The __geometric random variable__ is the number __X__ of tosses needed for a head to come for the first time.\n",
    "\n",
    "__its PMF is__\n",
    "$$\n",
    "p_X(k) = (1-p)^{k-1}p\n",
    "$$\n",
    "\n",
    "    i.e, k-1 succesive tails followed by a head.\n",
    "Proof of legitimacy,\n",
    "$$\n",
    "\\sum_{k=1}^\\infty p_X(k) = \\sum_{k=1}^\\infty (1-p)^{k-1}p\n",
    "= p\\sum_{k=0}^{\\infty}(1-p)^k = p\\frac{1}{1-(1-p)} = 1\n",
    "$$"
   ]
  },
  {
   "cell_type": "code",
   "execution_count": 23,
   "metadata": {},
   "outputs": [
    {
     "data": {
      "image/png": "[encoded data removed]",
      "text/plain": [
       "<Figure size 432x288 with 1 Axes>"
      ]
     },
     "metadata": {
      "needs_background": "light"
     },
     "output_type": "display_data"
    },
    {
     "name": "stdout",
     "output_type": "stream",
     "text": [
      "\n",
      "Expected Value E[X]: 3.8904410975974266\n",
      "The var(x): 17.554521609760403\n"
     ]
    }
   ],
   "source": [
    "p = 0.2\n",
    "k = np.arange(25)\n",
    "p_x = ((1-p)**k)*p\n",
    "\n",
    "plt.bar(k,p_x,width=0.15)\n",
    "plt.show()\n",
    "\n",
    "\n",
    "E_x = (k*p_x).sum()\n",
    "print('\\nExpected Value E[X]:',E_x)\n",
    "\n",
    "var_x = ((k - E_x)**2*p_x).sum()\n",
    "\n",
    "print('The var(x):',var_x)"
   ]
  },
  {
   "cell_type": "markdown",
   "metadata": {},
   "source": [
    "---\n",
    "## The Poisson Random Variable \n",
    "---\n",
    "__its PMF is,__ \n",
    "$$\n",
    "p_X(k) = e^{-\\lambda}\\frac{\\lambda^k}{k!}\n",
    "$$\n",
    "where $\\lambda$ is a positive parameter\n",
    "\n",
    "Proof of Legitimacy,\n",
    "$$\n",
    "\\sum_{k=0}^\\infty e^{-\\lambda}\\frac{\\lambda^k}{k!} = e^\\lambda(1+\\lambda+\\frac{\\lambda^2}{2}+\\frac{\\lambda^3}{3}+....) = e^{-\\lambda}{\\lambda} = 1\n",
    "$$\n",
    "\n",
    "\n",
    "The __possion__ random variable can be considered as binomial random variable with very small _p_ and very large _n_\n",
    "\n",
    "      i.e: no of typos in a book, no. of cars involved in an accident\n",
    "\n",
    "$$\n",
    "e^{-\\lambda}\\frac{\\lambda}{k!} \\approx \\frac{n!}{k!(n-k)!}p^k(1-p)^{n-k}\n",
    "$$\n",
    "\n",
    "provided $\\lambda = np$\n",
    "\n",
    "\n",
    "The Expected Value,\n",
    "\n",
    "$$E[X] = \\sum_{k=0}^\\infty ke^{-\\lambda}\\frac{\\lambda^k}{k!} \\\\\n",
    "= \\sum_{k=0}^\\infty ke^{-\\lambda}\\frac{\\lambda^k}{k!} \\\\\n",
    "= \\lambda \\sum_{k=1}^\\infty e^{-\\lambda} \\frac{\\lambda^{k-1}}{(k-1)!} \\\\\n",
    "= \\lambda \\sum_{m=0}^\\infty e^{-\\lambda} \\frac{\\lambda^{m}}{m!} \\\\\n",
    " = \\lambda\n",
    "$$"
   ]
  },
  {
   "cell_type": "code",
   "execution_count": 24,
   "metadata": {},
   "outputs": [
    {
     "data": {
      "image/png": "[encoded data removed]",
      "text/plain": [
       "<Figure size 432x288 with 1 Axes>"
      ]
     },
     "metadata": {
      "needs_background": "light"
     },
     "output_type": "display_data"
    },
    {
     "name": "stdout",
     "output_type": "stream",
     "text": [
      "Expected Value E[X]: 2.999999999999923 = \\lambda\n",
      "The var(X): 2.9999999999984954\n"
     ]
    }
   ],
   "source": [
    "from scipy.special import factorial\n",
    "lmbda = 3\n",
    "k = np.arange(25)\n",
    "\n",
    "p_x = np.exp(-lmbda)*((lmbda**k)/(factorial(k)))\n",
    "\n",
    "plt.bar(k,p_x,width=0.15)\n",
    "plt.show()\n",
    "\n",
    "E_x = (k*p_x).sum()\n",
    "print('Expected Value E[X]:',E_x, \"= \\lambda\" )\n",
    "n = k.size\n",
    "\n",
    "var_x = ((k-E_x)**2*p_x).sum()\n",
    "print('The var(X):',var_x)"
   ]
  },
  {
   "cell_type": "markdown",
   "metadata": {},
   "source": [
    "---\n",
    "## Function on Random Variables\n",
    "---\n",
    "\n",
    "Given a random variable X , one may generate other random variables by applying various transformations on X.\n",
    "$$Y = g(X)$$\n",
    "\n",
    "If X is discrete with PMF $p_X$, then Y is also discrete, and its PMF $p_Y$ can be calculated using the PMF of X. In particular, to obtain $ p_Y(y) $ for any $y$ ,we add the probabilities of a values of $x$ such that $g(x)=y$:\n",
    "\n",
    "$$\n",
    "p_Y(y)  = \\sum_{\\lbrace x|g(x)=y \\rbrace }p_X(x)\n",
    "$$"
   ]
  },
  {
   "cell_type": "markdown",
   "metadata": {},
   "source": [
    "---\n",
    "\n",
    "## Expectation, Mean, and Variance\n",
    "---\n",
    "\n",
    "Expectation $E[X]$ of $X$ is a weighted (in proportion to probability) average of the possible values of X.\n",
    "\n",
    "$$E[x] = \\sum_x xp_X(x)$$\n",
    "\n",
    "The __Variance__ is given by:\n",
    "\n",
    "$$var(x) = \\sum_x (x-E[x])^2p_X(x) = E[X^2] - (E[X])^2$$\n"
   ]
  },
  {
   "cell_type": "markdown",
   "metadata": {},
   "source": [
    "if $Y = aX+b$,\n",
    "$$\n",
    "E[Y] = \\sum_x (ax + b)p_X(x) = a\\sum_x xp_X(x) + b \\sum p_X(x) \\\\\n",
    "E[Y] = aE[X]+b\n",
    "$$\n",
    "\n",
    "Similarly for __variance__,\n",
    "$$\n",
    "var(Y)  = \\sum_x (ax + b - E[ax+b])^2p_X(x) \\\\\n",
    " = \\sum_x (ax+b - aE[x] + b)^2p_X(x)\\\\\n",
    " = a^2\\sum_x (x-E[X])^2p_X(x)\\\\\n",
    " = a^2var(x)\\\\\n",
    "$$"
   ]
  },
  {
   "cell_type": "code",
   "execution_count": 31,
   "metadata": {},
   "outputs": [
    {
     "name": "stdout",
     "output_type": "stream",
     "text": [
      "100.14007500748015\n"
     ]
    },
    {
     "data": {
      "text/plain": [
       "[<matplotlib.lines.Line2D at 0x7fe2bc9a20a0>]"
      ]
     },
     "execution_count": 31,
     "metadata": {},
     "output_type": "execute_result"
    },
    {
     "data": {
      "image/png": "[encoded data removed]",
      "text/plain": [
       "<Figure size 432x288 with 1 Axes>"
      ]
     },
     "metadata": {
      "needs_background": "light"
     },
     "output_type": "display_data"
    }
   ],
   "source": [
    "lmbda = 0.3\n",
    "x = np.linspace(0,100,10000)\n",
    "f_x = lmbda*(np.exp(-(lmbda*x)))\n",
    "print(f_x.sum())\n",
    "plt.plot(x,f_x,'--')"
   ]
  }
 ],
 "metadata": {
  "kernelspec": {
   "display_name": "Python 3",
   "language": "python",
   "name": "python3"
  },
  "language_info": {
   "codemirror_mode": {
    "name": "ipython",
    "version": 3
   },
   "file_extension": ".py",
   "mimetype": "text/x-python",
   "name": "python",
   "nbconvert_exporter": "python",
   "pygments_lexer": "ipython3",
   "version": "3.8.1"
  }
 },
 "nbformat": 4,
 "nbformat_minor": 4
}
