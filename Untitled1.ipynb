{
 "cells": [
  {
   "cell_type": "code",
   "execution_count": 39,
   "metadata": {},
   "outputs": [
    {
     "data": {
      "text/plain": [
       "[<matplotlib.lines.Line2D at 0x7f7c5d8d5cd0>]"
      ]
     },
     "execution_count": 39,
     "metadata": {},
     "output_type": "execute_result"
    },
    {
     "data": {
      "image/png": "[encoded data removed]",
      "text/plain": [
       "<Figure size 432x288 with 1 Axes>"
      ]
     },
     "metadata": {
      "needs_background": "light"
     },
     "output_type": "display_data"
    }
   ],
   "source": [
    "import numpy as np\n",
    "import matplotlib.pyplot as plt\n",
    "\n",
    "Nf_data = [[0.257,0.105,0.217,0.085,0.206,0.083,0.203,0.076,0.143,0.074,0.123,0.072,0.120,0.037,0.109]\n",
    ",[1.129,0.311 ,0.680,0.295 ,0.540,0.257 ,0.509,0.252 ,0.457,0.226 ,0.451,0.216 ,0.356,0.201 ,0.342]\n",
    ",[5.598,2.590 ,5.560,2.410 ,4.820,2.400 ,4.110,1.492 ,3.847,1.460 ,3.590,1.258 ,3.330,1.246 ,2.903]\n",
    ",[67.340,18.620 ,50.090,17.280 ,48.420,16.190 ,36.350,15.580 ,27.940,12.600 ,26.260,9.930 ,24.900,6.710 ,20.300]\n",
    ",[11748,896 ,11748,659 ,3295,486 ,1459,367 ,1400,340 ,1330,280 ,1250,103 ,1242]]\n",
    "\n",
    "stress_data = [0.95,0.90,0.825,0.75,0.675]\n",
    "Nf = np.array(Nf_data)\n",
    "Nf = np.resize(Nf,(75,))\n",
    "    \n",
    "stress = []\n",
    "for i in stress_data:\n",
    "    stress.append(i*np.ones(15))\n",
    "stress = np.resize(np.array(stress),(75,))\n",
    "\n",
    "plt.xscale('log')\n",
    "plt.plot(Nf,stress,'r.',markersize=5)"
   ]
  }
 ],
 "metadata": {
  "kernelspec": {
   "display_name": "Python 3",
   "language": "python",
   "name": "python3"
  },
  "language_info": {
   "codemirror_mode": {
    "name": "ipython",
    "version": 3
   },
   "file_extension": ".py",
   "mimetype": "text/x-python",
   "name": "python",
   "nbconvert_exporter": "python",
   "pygments_lexer": "ipython3",
   "version": "3.7.7"
  }
 },
 "nbformat": 4,
 "nbformat_minor": 4
}
