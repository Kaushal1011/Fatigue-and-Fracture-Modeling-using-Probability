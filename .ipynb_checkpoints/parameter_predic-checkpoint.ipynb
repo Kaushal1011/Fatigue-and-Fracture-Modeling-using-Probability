{
 "cells": [
  {
   "cell_type": "markdown",
   "metadata": {},
   "source": [
    "# The Model\n",
    "---\n",
    "#### General information on Weibul Distribution\n",
    "---\n",
    "If $X$ is a random variable denoting the _time to failure_, the __Weibull distribution__ gives a distribution for which the _failure rate_ is proportional to a power of time.\n",
    "\n",
    "$$\n",
    "f_X(x) = \n",
    "\\frac{\\beta}{\\delta}(\\frac{x-\\lambda}{\\delta})^{\\beta-1}e^{-(\\frac{x-\\lambda}{\\delta})^\\beta}\n",
    "$$\n",
    "$$\n",
    "F_X(x;\\lambda,\\delta,\\sigma) = 1-e^{-({\\frac{x-\\lambda}{\\delta}})^\\beta}\n",
    "$$\n",
    "\n",
    "where $\\beta > 0$ is the __shape parameter__, \n",
    "\n",
    "$\\delta > 0$ is the __scale parameter__,\n",
    "\n",
    "$\\lambda > x$ is the __location parameter__ (the minimum value of X).\n",
    "\n",
    "Percentile points,\n",
    "\n",
    "$$\n",
    "x_p = \\lambda + \\delta(-log(1-p))^{\\frac{1}{\\beta}}\n",
    "$$\n",
    "where $0\\leq p\\leq 1$ \n",
    "\n",
    "__Important Properties of Weibull Distribution__\n",
    "\n",
    "- Stable with respect to location and scale\n",
    "$$\n",
    "X \\sim W(\\lambda,\\delta,\\beta) \\iff \\frac{X-a}{b} \\sim W(\\frac{\\lambda-a}{b},\\frac{\\delta}{b},\\beta)\n",
    "$$\n",
    "\n",
    "- It is stable with respect to Minimum Operations.i.e., if $X_1,X_2,X_3,.....X_m$ are independent and identical distribution,then \n",
    "$$\n",
    "X_i\\sim W(\\lambda,\\delta,\\beta) \\iff min(X_1,X_2,....,X_m) \\sim W(\\lambda,\\delta m^{\\frac{1}{\\beta}},\\beta)\n",
    "$$\n",
    "if a set of independent and identical distribution is weibull then its minimum is also a Weibull Random Variable\n",
    "---\n",
    "#### Relevant Variable involved for modeling:\n",
    "---\n",
    "$P$:Probability of fatigue faliure<br>\n",
    "$N$:Number of stress cycles to failure<br>\n",
    "$N_0$:Threshold value of N (min lifetime)<br>\n",
    "$\\Delta\\sigma$:Stress Range<br>\n",
    "$\\Delta\\sigma_0$:Endurance limit<br>\n",
    "\n",
    "Putting Related variables together we have three varaibles(based on II Theorem)<br>\n",
    "$$\n",
    "\\frac{N}{N_0},\\frac{\\Delta\\sigma}{\\Delta\\sigma_0},P \\\\\n",
    "P = q(\\frac{N}{N_0},\\frac{\\Delta\\sigma}{\\Delta\\sigma_0})\n",
    "$$\n",
    "where $q()$ is a function we are to determine<br>\n",
    "so P can be any monotone function of $\\frac{N}{N_0},\\frac{\\Delta\\sigma}{\\Delta\\sigma_0}$ , as $h(\\frac{N}{N_0})$ $\\&$ $g(\\frac{\\Delta\\sigma}{\\Delta\\sigma_0})$\n",
    "\n",
    "We denote them as \n",
    "$$\n",
    "N^* = h(\\frac{N}{N_0}) \\\\\n",
    "\\Delta\\sigma^* = g(\\frac{\\Delta\\sigma}{\\Delta\\sigma_0})\n",
    "$$\n",
    "\n",
    "---\n",
    "#### Justification of Weibull for S-N fields\n",
    "---\n",
    "Considerations for  S-N fields:\n",
    "\n",
    "- __Weakest Link__: Fatigue lifetime of a longitudinal element is the minimum of its constituting particles.Thus we need minimum model for a longitudinal element $L = ml$\n",
    "\n",
    "- __Stability__: The distribution function must hold for different lengths.\n",
    "\n",
    "- __Limit Behaviour__: Need Asymptotic family of Distribution\n",
    "\n",
    "- __Limited Range__: $N^*$ & $\\Delta\\sigma^*$ has finite lower bound,coincide with theoretical end of CDF\n",
    "$$\n",
    "N\\geq N_0 \\\\\n",
    "\\Delta\\sigma \\geq \\Delta\\sigma_0 \n",
    "$$\n",
    "- __Compatibility__: $$E(N^*;\\Delta\\sigma^*) = F(\\Delta\\sigma^*;N^*)$$ i.e., Distribution of $N^*$ can be determined based on given $\\Delta\\sigma^*$ and similarly $\\Delta\\sigma^*$ from $N^*$.\n",
    "\n",
    "___All these are Statisfied by Weibull Distribution___\n",
    "\n",
    "$$E(N^*;\\Delta\\sigma^*) = F(\\Delta\\sigma^*;N^*)$$\n",
    "becomes\n",
    "$$\n",
    "[\\frac{\\Delta\\sigma^*-\\lambda(N^*)}{\\delta(N^*)}] ^{\\beta(N^*)} = [\\frac{N^*-\\lambda(\\Delta\\sigma^*)}{\\delta(\\Delta\\sigma^*)}] ^{\\beta(\\Delta\\sigma^*)}\n",
    "$$\n",
    "\n",
    "Best fitted Solution:\n",
    "$$\n",
    "\\lambda(N^*) = \\frac{\\lambda}{N^* - B} \\\\\n",
    "\\delta(N^*) = \\frac{\\delta}{N^* - B} \\\\\n",
    "\\beta(N^*) = \\beta\n",
    "$$\n",
    "and\n",
    "\n",
    "\n",
    "$$\n",
    "\\lambda(\\Delta\\sigma^*) = \\frac{\\lambda}{\\Delta\\sigma^* - C} \\\\\n",
    "\\delta(\\Delta\\sigma^*) = \\frac{\\delta}{\\Delta\\sigma^* - C} \\\\\n",
    "\\beta(\\Delta\\sigma^*) = \\beta\n",
    "$$\n",
    "\n",
    "results in,\n",
    "$$\n",
    "E[N^*;\\Delta\\sigma^*] = F[\\Delta\\sigma^*;N^*] \\\\ \\\\\n",
    "= 1 - exp\\lbrace -(\\frac{(N^*-B)(\\Delta\\sigma^*-C)-\\lambda}{\\delta})^{\\beta}\\}\n",
    "$$\n",
    "\n",
    "since $\\Delta\\sigma^* \\longrightarrow \\infty$ a lower end for $N^* = h(\\frac{N}{N_0)}) = h(1)$ must exists such that $B = h(1)$,<br>\n",
    "similarly for $N^* \\longrightarrow \\infty$, $C = g(1)$\n",
    "\n",
    "The percentile curve is constant.\n",
    "$$\n",
    "\\frac{N^*\\Delta\\sigma^*  - \\lambda}{\\delta} = constant\n",
    "$$\n",
    "\n",
    "- The Zero-percentile curve represents the minimum possible $N_f$ for different values of $\\Delta\\sigma$ and is a hyperbola\n",
    "\n"
   ]
  },
  {
   "cell_type": "code",
   "execution_count": 39,
   "metadata": {},
   "outputs": [
    {
     "data": {
      "text/plain": [
       "[<matplotlib.lines.Line2D at 0x7f7c5d8d5cd0>]"
      ]
     },
     "execution_count": 39,
     "metadata": {},
     "output_type": "execute_result"
    },
    {
     "data": {
      "image/png": "[encoded data removed]",
      "text/plain": [
       "<Figure size 432x288 with 1 Axes>"
      ]
     },
     "metadata": {
      "needs_background": "light"
     },
     "output_type": "display_data"
    }
   ],
   "source": [
    "import numpy as np\n",
    "import matplotlib.pyplot as plt\n",
    "\n",
    "Nf_data = [[0.257,0.105,0.217,0.085,0.206,0.083,0.203,0.076,0.143,0.074,0.123,0.072,0.120,0.037,0.109]\n",
    ",[1.129,0.311 ,0.680,0.295 ,0.540,0.257 ,0.509,0.252 ,0.457,0.226 ,0.451,0.216 ,0.356,0.201 ,0.342]\n",
    ",[5.598,2.590 ,5.560,2.410 ,4.820,2.400 ,4.110,1.492 ,3.847,1.460 ,3.590,1.258 ,3.330,1.246 ,2.903]\n",
    ",[67.340,18.620 ,50.090,17.280 ,48.420,16.190 ,36.350,15.580 ,27.940,12.600 ,26.260,9.930 ,24.900,6.710 ,20.300]\n",
    ",[11748,896 ,11748,659 ,3295,486 ,1459,367 ,1400,340 ,1330,280 ,1250,103 ,1242]]\n",
    "\n",
    "stress_data = [0.95,0.90,0.825,0.75,0.675]\n",
    "Nf = np.array(Nf_data)\n",
    "Nf = np.resize(Nf,(75,))\n",
    "    \n",
    "stress = []\n",
    "for i in stress_data:\n",
    "    stress.append(i*np.ones(15))\n",
    "stress = np.resize(np.array(stress),(75,))\n",
    "\n",
    "plt.xscale('log')\n",
    "plt.plot(Nf,stress,'r.',markersize=5)"
   ]
  },
  {
   "cell_type": "code",
   "execution_count": 107,
   "metadata": {},
   "outputs": [
    {
     "name": "stdout",
     "output_type": "stream",
     "text": [
      "cost: 3801.8424806280427\n",
      "best: 434.4490916737882\n",
      "[1.6901670114704652, 141.37814945075246, -129.18527883714967]\n"
     ]
    },
    {
     "data": {
      "text/plain": [
       "<matplotlib.legend.Legend at 0x7f7c5cf073a0>"
      ]
     },
     "execution_count": 107,
     "metadata": {},
     "output_type": "execute_result"
    },
    {
     "data": {
      "image/png": "[encoded data removed]",
      "text/plain": [
       "<Figure size 432x288 with 1 Axes>"
      ]
     },
     "metadata": {
      "needs_background": "light"
     },
     "output_type": "display_data"
    }
   ],
   "source": [
    "#first guess ?? later\n",
    "\n",
    "\n",
    "# Gradient Descent\n",
    "# theta = [a,b,c]\n",
    "def cal_cost(a,b,c,X,Y):\n",
    "    m = X.size\n",
    "    cost =  (Y - (a - (b/(X - c))))**2\n",
    "    return (1/(2*m))*cost.sum()\n",
    "print('cost:',cal_cost(-57.4173,142.27,-2.62708,Nf,stress))\n",
    "print('best:',cal_cost(-20.7843,19.731,-1.10607,Nf,stress))\n",
    "\n",
    "\n",
    "def predict(a,b,c,X,Y,learning_rate):\n",
    "    a_dash = (-2)*(Y - (a - (b*(1/(X-c)))))\n",
    "    b_dash = 2*(Y-(a-((b/(X-c)))))*(1/(X-c))\n",
    "    c_dash = 2*(Y-(a-((b/(X-c)))))*(b/(X-c))\n",
    "    a_new = a - learning_rate*(1/X.size)*(a_dash.sum())\n",
    "    b_new = b - learning_rate*(1/X.size)*(b_dash.sum())\n",
    "    c_new = c - learning_rate*(1/X.size)*(c_dash.sum())\n",
    "    return a_new,b_new,c_new\n",
    "    \n",
    "def gradient_descent(a,b,c,X,Y,alpha=0.01,iterations=1000):\n",
    "    cost_history = np.zeros(iterations)\n",
    "    theta_history= np.zeros((iterations,3))\n",
    "    \n",
    "    for i in range(iterations):\n",
    "        a,b,c = predict(a,b,c,X,Y,alpha)\n",
    "        theta_history[i,:] = np.array([a,b,c]) \n",
    "        cost_history[i] = cal_cost(a,b,c,X,Y)\n",
    "    return [a,b,c],theta_history,cost_history\n",
    "\n",
    "theta,theta_history,cost_history = gradient_descent(-57.4173,142.27,-2.62708,Nf,stress)\n",
    "\n",
    "print(theta)\n",
    "plt.xlabel('no. of iterations')\n",
    "plt.ylabel('cost')\n",
    "plt.plot(np.arange(1,1001),theta_history[:,0],label='logN0')\n",
    "plt.plot(np.arange(1,1001),theta_history[:,1],label='K')\n",
    "plt.plot(np.arange(1,1001),theta_history[:,2],label='log(sterss)')\n",
    "plt.legend()"
   ]
  },
  {
   "cell_type": "code",
   "execution_count": 230,
   "metadata": {},
   "outputs": [
    {
     "data": {
      "image/png": "[encoded data removed]",
      "text/plain": [
       "<Figure size 432x288 with 1 Axes>"
      ]
     },
     "metadata": {
      "needs_background": "light"
     },
     "output_type": "display_data"
    },
    {
     "name": "stdout",
     "output_type": "stream",
     "text": [
      "6.275070679796668e-11\n"
     ]
    },
    {
     "ename": "OverflowError",
     "evalue": "math range error",
     "output_type": "error",
     "traceback": [
      "\u001b[0;31m---------------------------------------------------------------------------\u001b[0m",
      "\u001b[0;31mOverflowError\u001b[0m                             Traceback (most recent call last)",
      "\u001b[0;32m<ipython-input-230-6f654fdd8454>\u001b[0m in \u001b[0;36m<module>\u001b[0;34m\u001b[0m\n\u001b[1;32m     31\u001b[0m \u001b[0mshape\u001b[0m \u001b[0;34m=\u001b[0m \u001b[0;36m1\u001b[0m\u001b[0;34m/\u001b[0m\u001b[0;34m(\u001b[0m\u001b[0;34m(\u001b[0m\u001b[0;36m7.859\u001b[0m\u001b[0;34m*\u001b[0m\u001b[0mc\u001b[0m\u001b[0;34m)\u001b[0m\u001b[0;34m+\u001b[0m\u001b[0;34m(\u001b[0m\u001b[0;36m2.9554\u001b[0m\u001b[0;34m*\u001b[0m\u001b[0;34m(\u001b[0m\u001b[0mc\u001b[0m\u001b[0;34m**\u001b[0m\u001b[0;36m2\u001b[0m\u001b[0;34m)\u001b[0m\u001b[0;34m)\u001b[0m\u001b[0;34m)\u001b[0m\u001b[0;34m\u001b[0m\u001b[0;34m\u001b[0m\u001b[0m\n\u001b[1;32m     32\u001b[0m \u001b[0mprint\u001b[0m\u001b[0;34m(\u001b[0m\u001b[0mshape\u001b[0m\u001b[0;34m)\u001b[0m\u001b[0;34m\u001b[0m\u001b[0;34m\u001b[0m\u001b[0m\n\u001b[0;32m---> 33\u001b[0;31m \u001b[0mscale\u001b[0m \u001b[0;34m=\u001b[0m \u001b[0;34m(\u001b[0m\u001b[0mX_\u001b[0m\u001b[0;34m.\u001b[0m\u001b[0mmean\u001b[0m\u001b[0;34m(\u001b[0m\u001b[0;34m)\u001b[0m \u001b[0;34m-\u001b[0m \u001b[0;34m(\u001b[0m\u001b[0;36m2\u001b[0m\u001b[0;34m*\u001b[0m\u001b[0mb1\u001b[0m\u001b[0;34m)\u001b[0m\u001b[0;34m)\u001b[0m \u001b[0;34m/\u001b[0m\u001b[0;34m(\u001b[0m\u001b[0mmath\u001b[0m\u001b[0;34m.\u001b[0m\u001b[0mgamma\u001b[0m\u001b[0;34m(\u001b[0m\u001b[0;36m1\u001b[0m\u001b[0;34m+\u001b[0m\u001b[0;34m(\u001b[0m\u001b[0;36m1\u001b[0m\u001b[0;34m/\u001b[0m\u001b[0mshape\u001b[0m\u001b[0;34m)\u001b[0m\u001b[0;34m)\u001b[0m\u001b[0;34m+\u001b[0m\u001b[0;34m(\u001b[0m\u001b[0;36m1\u001b[0m\u001b[0;34m-\u001b[0m\u001b[0;34m(\u001b[0m\u001b[0mmath\u001b[0m\u001b[0;34m.\u001b[0m\u001b[0mpow\u001b[0m\u001b[0;34m(\u001b[0m\u001b[0;36m2\u001b[0m\u001b[0;34m,\u001b[0m\u001b[0;34m(\u001b[0m\u001b[0;34m-\u001b[0m\u001b[0;36m1\u001b[0m\u001b[0;34m/\u001b[0m\u001b[0mshape\u001b[0m\u001b[0;34m)\u001b[0m\u001b[0;34m)\u001b[0m\u001b[0;34m)\u001b[0m\u001b[0;34m)\u001b[0m\u001b[0;34m)\u001b[0m\u001b[0;34m\u001b[0m\u001b[0;34m\u001b[0m\u001b[0m\n\u001b[0m\u001b[1;32m     34\u001b[0m \u001b[0;34m\u001b[0m\u001b[0m\n\u001b[1;32m     35\u001b[0m \u001b[0mloc\u001b[0m \u001b[0;34m=\u001b[0m \u001b[0mX_\u001b[0m\u001b[0;34m.\u001b[0m\u001b[0mmean\u001b[0m\u001b[0;34m(\u001b[0m\u001b[0;34m)\u001b[0m \u001b[0;34m-\u001b[0m \u001b[0mscale\u001b[0m\u001b[0;34m*\u001b[0m\u001b[0mmath\u001b[0m\u001b[0;34m.\u001b[0m\u001b[0mgamma\u001b[0m\u001b[0;34m(\u001b[0m\u001b[0;36m1\u001b[0m\u001b[0;34m+\u001b[0m\u001b[0;34m(\u001b[0m\u001b[0;36m1\u001b[0m\u001b[0;34m/\u001b[0m\u001b[0mshape\u001b[0m\u001b[0;34m)\u001b[0m\u001b[0;34m)\u001b[0m\u001b[0;34m\u001b[0m\u001b[0;34m\u001b[0m\u001b[0m\n",
      "\u001b[0;31mOverflowError\u001b[0m: math range error"
     ]
    }
   ],
   "source": [
    "import math\n",
    "\n",
    "logN0 = -20.7843\n",
    "K = 19.731\n",
    "logs0 = -1.10607\n",
    "\n",
    "X_ = (np.log(Nf)-logN0)*(np.log(stress)-logs0)\n",
    "plt.hist(X_)\n",
    "plt.show()\n",
    "\n",
    "# start from here\n",
    "\n",
    "def get_b1(X):\n",
    "    n = X_.size\n",
    "    sum = []\n",
    "    for i in range(1,n+1):\n",
    "        sum.append((((i-1)/(n-1))*X_[n-i:n-1]).sum())\n",
    "    return np.array(sum).sum()\n",
    "\n",
    "def get_b2(X):\n",
    "    n = X_.size\n",
    "    sum = []\n",
    "    for i in range(1,n+1):\n",
    "        sum.append(((((i-1)*(i-2))/((n-1)*(n-2)))*X_[n-i:n-1]).sum())\n",
    "    return np.array(sum).sum()\n",
    "\n",
    "b1 = get_b1(X_)\n",
    "\n",
    "b2 = get_b2(X_)\n",
    "\n",
    "c = 2*b1 - X_.mean()/(3*b2 - X_.mean()) - (math.log(2)/math.log(3))\n",
    "\n",
    "\n",
    "shape = 1/((7.859*c)+(2.9554*(c**2)))\n",
    "print(shape)\n",
    "scale = (X_.mean() - (2*b1)) /(math.gamma(1+(1/shape))+(1-(math.pow(2,(-1/shape)))))\n",
    "\n",
    "loc = X_.mean() - scale*math.gamma(1+(1/shape))\n",
    "\n",
    "print(' shape: ',shape,' scale: ',scale,' loc: ',loc)"
   ]
  }
 ],
 "metadata": {
  "kernelspec": {
   "display_name": "Python 3",
   "language": "python",
   "name": "python3"
  },
  "language_info": {
   "codemirror_mode": {
    "name": "ipython",
    "version": 3
   },
   "file_extension": ".py",
   "mimetype": "text/x-python",
   "name": "python",
   "nbconvert_exporter": "python",
   "pygments_lexer": "ipython3",
   "version": "3.8.2"
  }
 },
 "nbformat": 4,
 "nbformat_minor": 4
}
