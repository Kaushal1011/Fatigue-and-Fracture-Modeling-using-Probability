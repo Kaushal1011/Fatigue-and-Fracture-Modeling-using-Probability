{
 "cells": [
  {
   "cell_type": "code",
   "execution_count": 2,
   "metadata": {},
   "outputs": [],
   "source": [
    "# start by running this cell\n",
    "import numpy as np\n",
    "import matplotlib.pyplot as plt\n"
   ]
  },
  {
   "cell_type": "markdown",
   "metadata": {},
   "source": [
    "## Weibull Distribution\n",
    "---\n",
    "If $X$ is a random variable denoting the _time to failure_, the __Weibull distribution__ gives a distribution for which the _failure rate_ is proportional to a power of time.\n",
    "\n",
    "$$\n",
    "f_X(x) = \n",
<<<<<<< HEAD
    "\\frac{k}{\\lambda}(\\frac{x-\\delta}{\\lambda})^{k-1}e^{-(\\frac{x-\\delta}{\\lambda})^k}\n",
    "$$\n",
    "$$\n",
    "F_X(x) = 1-e^{-({\\frac{x-\\delta}{\\lambda}})^k}\n",
=======
    "\\begin{cases}\n",
    "\\frac{k}{\\lambda}(\\frac{x}{\\lambda})^{k-1}e^{-(\\frac{x}{\\lambda})^k}, & x \\geq 0, \\\\\n",
    "0, & x \\lt 0\n",
    "\\end{cases}\n",
>>>>>>> 2b1b87e7bb452a2c6af04e12796ba99976fc8c78
    "$$\n",
    "\n",
    "where $k > 0$ is the __shape parameter__ \n",
    "and $\\lambda > 0$ is the __scale parameter__.\n"
   ]
  },
  {
   "cell_type": "code",
   "execution_count": 70,
   "metadata": {},
   "outputs": [
    {
     "data": {
      "text/plain": [
       "[<matplotlib.lines.Line2D at 0x7f4a135b37f0>]"
      ]
     },
     "execution_count": 70,
     "metadata": {},
     "output_type": "execute_result"
    },
    {
     "data": {
      "image/png": "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\n",
      "text/plain": [
       "<Figure size 432x288 with 3 Axes>"
      ]
     },
     "metadata": {
      "needs_background": "light"
     },
     "output_type": "display_data"
    }
   ],
   "source": [
    "from scipy.special import gamma\n",
    "lmbda = 2\n",
    "k = 6\n",
    "\n",
    "# create weibull random variable(x) given k\n",
    "x = np.random.weibull(k,1000)*lmbda\n",
    "\n",
    "# ploting the histogram of the variable \n",
    "count, bins  = np.histogram(x,100,density=True)\n",
    "\n",
    "# plt.hist -> count,bins(points),ignored something\n",
    "# bins form the points on which the graph is created as they are in ordered format\n",
    "# pdf of X\n",
    "\n",
    "def pdf(x,k,lmbda):\n",
    "    return (k/lmbda)*((x/lmbda)**(k-1))*(np.exp(-(x/lmbda)**k))\n",
    "\n",
    "def cdf(x,k,lmbda):\n",
    "    return 1- np.exp(-(x/lmbda)**k)\n",
    "\n",
    "def E_x(k,lmbda):\n",
    "    return lmbda*(gamma(1+1/k))\n",
    "\n",
    "def var_x(k,lmbda):\n",
    "    return (lmbda**2)*(gamma(1+(2/k))-((gamma(1+(1/k)))**2))\n",
    "\n",
    "def plot_pdf():\n",
    "    plt.plot(bins,pdf(bins,k,lmbda))\n",
    "    \n",
    "def plot_cdf():\n",
    "    plt.plot(bins,cdf(bins,k,lmbda))\n",
    "\n",
    "def failure_rate(x,k,lmbda):\n",
    "    return (k/lmbda)*((x/lmbda)**(k-1))\n",
    "    \n",
    "plt.subplot(2,2,1)\n",
    "plt.title(\"PDF Weibull Distribution\")\n",
    "plt.hist(x,100,density=True) # histogram of X \n",
    "plot_pdf()\n",
    "\n",
    "plt.subplot(2,2,2)\n",
    "plt.title(\"CDF Weibull Distribution\")\n",
    "plot_cdf()\n",
    "\n",
    "plt.subplot(2,2,3)\n",
    "plt.xlabel(\"failure rate\")\n",
    "plt.plot(bins,failure_rate(bins,k,lmbda))\n",
    "\n"
   ]
<<<<<<< HEAD
  },
  {
   "cell_type": "markdown",
   "metadata": {},
   "source": [
    "$$\n",
    "X = (SWT^*)(N_f^*) = log(\\frac{SWT}{SWT_0})log(\\frac{Nf}{N_0})\n",
    "$$"
   ]
=======
>>>>>>> 2b1b87e7bb452a2c6af04e12796ba99976fc8c78
  }
 ],
 "metadata": {
  "kernelspec": {
   "display_name": "Python 3",
   "language": "python",
   "name": "python3"
  },
  "language_info": {
   "codemirror_mode": {
    "name": "ipython",
    "version": 3
   },
   "file_extension": ".py",
   "mimetype": "text/x-python",
   "name": "python",
   "nbconvert_exporter": "python",
   "pygments_lexer": "ipython3",
   "version": "3.8.2"
  }
 },
 "nbformat": 4,
 "nbformat_minor": 4
}
