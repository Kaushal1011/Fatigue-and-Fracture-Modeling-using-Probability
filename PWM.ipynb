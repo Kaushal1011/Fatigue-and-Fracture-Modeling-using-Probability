{
 "cells": [
  {
   "cell_type": "code",
   "execution_count": 33,
   "metadata": {},
   "outputs": [
    {
     "name": "stdout",
     "output_type": "stream",
     "text": [
      "(18.227716294589943, 1.6901910755086909, 2.70459)\n"
     ]
    }
   ],
   "source": [
    "import math\n",
    "import numpy as np\n",
    "import matplotlib.pyplot as plt\n",
    "\n",
    "Nf_data = [[0.257,0.105,0.217,0.085,0.206,0.083,0.203,0.076,0.143,0.074,0.123,0.072,0.120,0.037,0.109]\n",
    ",[1.129,0.311 ,0.680,0.295 ,0.540,0.257 ,0.509,0.252 ,0.457,0.226 ,0.451,0.216 ,0.356,0.201 ,0.342]\n",
    ",[5.598,2.590 ,5.560,2.410 ,4.820,2.400 ,4.110,1.492 ,3.847,1.460 ,3.590,1.258 ,3.330,1.246 ,2.903]\n",
    ",[67.340,18.620 ,50.090,17.280 ,48.420,16.190 ,36.350,15.580 ,27.940,12.600 ,26.260,9.930 ,24.900,6.710 ,20.300]\n",
    ",[11748,896 ,11748,659 ,3295,486 ,1459,367 ,1400,340 ,1330,280 ,1250,103 ,1242]]\n",
    "\n",
    "stress_data = [0.95,0.90,0.825,0.75,0.675]\n",
    "Nf = np.array(Nf_data)\n",
    "Nf = np.resize(Nf,(75,))\n",
    "    \n",
    "stress = []\n",
    "for i in stress_data:\n",
    "    stress.append(i*np.ones(15))\n",
    "stress = np.resize(np.array(stress),(75,))\n",
    "\n",
    "\n",
    "B = -20.783\n",
    "C = -1.10607\n",
    "\n",
    "sigma_star = np.log(stress) - C\n",
    "N_star = np.log(Nf) - B\n",
    "\n",
    "#plt.plot(N_star,sigma_star,'.')\n",
    "X = sigma_star*N_star\n",
    "\n",
    "X = np.sort(X)\n"
   ]
  },
  {
   "cell_type": "markdown",
   "metadata": {},
   "source": [
    "## Newton's Method for Mathematical Approximation\n",
    "$$\n",
    "x_{n+1} = x_n - \\frac{f(x_n)}{f'(x_n)}\n",
    "$$"
   ]
  },
  {
   "cell_type": "code",
   "execution_count": 70,
   "metadata": {},
   "outputs": [
    {
     "data": {
      "text/plain": [
       "(18.227715890453297, 1.6901915121482538, 2.704590828835178)"
      ]
     },
     "execution_count": 70,
     "metadata": {},
     "output_type": "execute_result"
    }
   ],
   "source": [
    "def getMoments(X):\n",
    "    n = X.size\n",
    "    M0 = (1/n)*(X.sum())\n",
    "    \n",
    "    sum1 = 0\n",
    "    for i in range(n):\n",
    "        sum1 += i*X[i]\n",
    "    M1 = (1/((n)*(n-1)))*sum1\n",
    "    \n",
    "    sum2 = 0\n",
    "    for i in range(n):\n",
    "        sum2 += i*(i-1)*X[i]\n",
    "    M2 = (1/(n*(n-1)*(n-2)))*sum2\n",
    "    \n",
    "    return M0,M1,M2\n",
    "\n",
    "def f(x,C):\n",
    "    return (2**x)*(C - 3) + (3**x) - (C-2)\n",
    "\n",
    "def f_dash(x,C):\n",
    "    return math.log(2)*(2**x)*(C - 3) - math.log(3)*(3**x)\n",
    "\n",
    "def newton_approx(C,f,f_dash,x=-3,iteration=1000):\n",
    "    for _  in range(iteration):\n",
    "        x = x - (f(x,C)/f_dash(x,C))\n",
    "        #print(x)\n",
    "    return x\n",
    "\n",
    "def getpara(M0,M1,M2,newt_init,newt_iterations):\n",
    "    shape = -1/ newton_approx((3*M2 - M0)/(2*M1 - M0),f,f_dash,x = newt_init,iteration = newt_iterations)\n",
    "    scale = (2*M1 - M0)/((1 - 2**(-(1/shape)))*math.gamma(1+(1/shape)))\n",
    "    loc = M0 - scale*(math.gamma(1+(1/shape)))\n",
    "    \n",
    "    return loc,scale,shape\n",
    "\n",
    "def PWM(X,newt_init=-1,newt_iterations = 1000):\n",
    "    return getpara(*getMoments(X),newt_init,newt_iterations)\n",
    "\n",
    "\n",
    "PWM(X)"
   ]
  }
 ],
 "metadata": {
  "kernelspec": {
   "display_name": "Python 3",
   "language": "python",
   "name": "python3"
  },
  "language_info": {
   "codemirror_mode": {
    "name": "ipython",
    "version": 3
   },
   "file_extension": ".py",
   "mimetype": "text/x-python",
   "name": "python",
   "nbconvert_exporter": "python",
   "pygments_lexer": "ipython3",
   "version": "3.8.2"
  }
 },
 "nbformat": 4,
 "nbformat_minor": 4
}
