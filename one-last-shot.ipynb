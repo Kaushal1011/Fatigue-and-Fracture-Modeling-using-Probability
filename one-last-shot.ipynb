{
 "cells": [
  {
   "cell_type": "markdown",
   "metadata": {},
   "source": [
    "Determining the SWT\n",
    "$$\n",
    "SWT =  \\frac{(\\sigma'_f)^2(2N_f)^{2b}}{E}+\\sigma'_f\\epsilon'_f(2N_F)^{b+c}\n",
    "$$"
   ]
  },
  {
   "cell_type": "code",
   "execution_count": 2,
   "metadata": {},
   "outputs": [
    {
     "data": {
      "text/plain": [
       "[<matplotlib.lines.Line2D at 0x7fcc9cd4e520>]"
      ]
     },
     "execution_count": 2,
     "metadata": {},
     "output_type": "execute_result"
    },
    {
     "data": {
      "image/png": "[encoded data removed]",
      "text/plain": [
       "<Figure size 432x288 with 1 Axes>"
      ]
     },
     "metadata": {
      "needs_background": "light"
     },
     "output_type": "display_data"
    }
   ],
   "source": [
    "import numpy as np\n",
    "import matplotlib.pyplot as plt\n",
    "\n",
    "sigma_f = 952.20\n",
    "epsilon_f = 0.7371\n",
    "b = -0.0890\n",
    "c = -0.6640\n",
    "E = 211600\n",
    "\n",
    "Nf = np.linspace(10,10000000,10000)\n",
    "SWT = (((sigma_f**2)*((2*Nf)**(2*b)))/E)+(sigma_f*epsilon_f*((2*Nf)**(b+c)))\n",
    "\n",
    "def get_SWT(Nf):\n",
    "    sigma_f = 952.20\n",
    "    epsilon_f = 0.7371\n",
    "    b = -0.0890\n",
    "    c = -0.6640\n",
    "    E = 211600\n",
    "    return (((sigma_f**2)*((2*Nf)**(2*b)))/E)+(sigma_f*epsilon_f*((2*Nf)**(b+c)))\n",
    "\n",
    "plt.yscale('log')\n",
    "plt.xscale('log')\n",
    "plt.plot(Nf,SWT)"
   ]
  },
  {
   "cell_type": "markdown",
   "metadata": {},
   "source": [
    "## Weibull Distribution\n",
    "---\n",
    "If $X$ is a random variable denoting the _time to failure_, the __Weibull distribution__ gives a distribution for which the _failure rate_ is proportional to a power of time.\n",
    "\n",
    "$$\n",
    "f_X(x) = \n",
    "\\frac{k}{\\lambda}(\\frac{x-\\delta}{\\lambda})^{k-1}e^{-(\\frac{x-\\delta}{\\lambda})^k}\n",
    "$$\n",
    "$$\n",
    "F_X(x) = 1-e^{-({\\frac{x-\\delta}{\\lambda}})^k}\n",
    "$$\n",
    "\n",
    "where $k > 0$ is the __shape parameter__ \n",
    "and $\\lambda > 0$ is the __scale parameter__.\n",
    "\n",
    "__Finding X for a given $F_X$ (ppf Percent Point function (inverse of _CDF_ ) )__ \n",
    "\n",
    "$$\n",
    "X = \\lambda(-ln(1-F_X))^{\\frac{1}{k}} + \\delta\n",
    "$$\n"
   ]
  },
  {
   "cell_type": "code",
   "execution_count": 3,
   "metadata": {},
   "outputs": [
    {
     "name": "stdout",
     "output_type": "stream",
     "text": [
      "X:(the one with 0.5 CDF) 38.21404808292718\n"
     ]
    }
   ],
   "source": [
    "from scipy.special import gamma\n",
    "import math\n",
    "\n",
    "class Weibull:\n",
    "    '''\n",
    "w = Weibull(shape:beta,scale:theta,position:lambda)\n",
    "\n",
    "    '''\n",
    "    def __init__(self,k,lmbda,delta):\n",
    "        self.k = k\n",
    "        self.lmbda = lmbda\n",
    "        self.delta = delta\n",
    "        self.x = (np.random.weibull(k,1000)*lmbda) + delta\n",
    "        _,self.bins  = np.histogram(self.x,100,density=True)\n",
    "\n",
    "\n",
    "    def pdf(self):\n",
    "        x = self.bins\n",
    "        k = self.k\n",
    "        lmbda = self.lmbda\n",
    "        delta =  self.delta\n",
    "        return ((k/lmbda)*((x-delta)/lmbda)**(k-1))*(np.exp(-((x-delta)/lmbda)**k))\n",
    "\n",
    "    def cdf(self):\n",
    "        x = self.bins\n",
    "        k = self.k\n",
    "        lmbda = self.lmbda\n",
    "        delta = self.delta\n",
    "        return 1- np.exp(-((x-delta)/lmbda)**k)\n",
    "\n",
    "    def failure_rate(self):\n",
    "        x = self.x\n",
    "        k = self.k\n",
    "        lmbda = self.lmbda\n",
    "        return (k/lmbda)*((x/lmbda)**(k-1))\n",
    "\n",
    "    def E_x(self):\n",
    "        k = self.k\n",
    "        lmbda = self.lmbda\n",
    "        return lmbda*(gamma(1+1/k))\n",
    "\n",
    "    def var_x(self):\n",
    "        k = self.k\n",
    "        lmbda = self.lmbda\n",
    "        return (lmbda**2)*(gamma(1+(2/k))-((gamma(1+(1/k)))**2))\n",
    "\n",
    "    def plot_pdf(self):\n",
    "        plt.plot(self.bins,self.pdf())\n",
    "    \n",
    "    def plot_cdf(self):\n",
    "        plt.plot(self.bins,self.cdf())\n",
    "\n",
    "    def plot_fr(self):\n",
    "        plt.plot(self.bins,self.failure_rate())\n",
    "    \n",
    "    def plot_hist(self):\n",
    "        plt.hist(self.x)\n",
    "\n",
    "    def find_x(self,F_x):\n",
    "        return (self.lmbda)*((-math.log(1-F_x))**(1/self.k)) + self.delta\n",
    "w = Weibull(25,12.887,25.5146)\n",
    "\n",
    "X = w.find_x(0.5)\n",
    "print('X:(the one with 0.5 CDF)',X)\n"
   ]
  },
  {
   "cell_type": "markdown",
   "metadata": {},
   "source": [
    "> Moving Forward \n",
    "$$\n",
    "X = log(\\frac{SWT}{SWT_0})log(\\frac{N_f}{N_0}) \\\\\n",
    "log(\\frac{SWT}{SWT_0}) = \\frac{X}{log(\\frac{N_f}{N_0})} \\\\ \\\\\n",
    "log(SWT) - log(SWT_0) = \\frac{X}{log(N_f)-log(N_0)} \\\\\n",
    "log(SWT)  = \\frac{X}{log(N_f)-log(N_0)} + log(SWT_0) \\\\\n",
    "$$\n",
    "\n",
    "__Trying to Find $log(N_0)$ and $log(SWT_0)$__\n",
    "\n",
    "$$\n",
    "logN_0^2 - (logN_{f1}+logN_{f2})logN_0 +(logN_{f1}logN_{f2} - \\frac{X(logN_{f2}-logN_{f1})}{logSWT-logSWT_0})  = 0\n",
    "$$\n",
    "\n",
    "`looks like`\n",
    "$$\n",
    "x^2 + bx +c = 0\n",
    "$$\n",
    "\n",
    "\n",
    "$$\n",
    "\\\\ \\\\\n",
    "a = 1 \\\\ \\\\\n",
    "b = logN_{f1} - logN_{f2} \\\\ \\\\\n",
    "c = \\frac{X(logN_{f2} - logN_{f1})}{logSWT_1-logSWT_0}\n",
    "$$"
   ]
  },
  {
   "cell_type": "code",
   "execution_count": 31,
   "metadata": {},
   "outputs": [
    {
     "data": {
      "text/plain": [
       "(1.0, 1.0)"
      ]
     },
     "execution_count": 31,
     "metadata": {},
     "output_type": "execute_result"
    }
   ],
   "source": [
    "#Solving Eq'n\n",
    "import math\n",
    "\n",
    "def sol_eqn(a,b,c):\n",
    "    D = (b**2)-(4*a*c)\n",
    "    x1 = ((-b)+(math.sqrt(D)))/(2*a)\n",
    "    x2 = ((-b)-(math.sqrt(D)))/(2*a)\n",
    "    return x1,x2\n"
   ]
  },
  {
   "cell_type": "code",
   "execution_count": 50,
   "metadata": {},
   "outputs": [
    {
     "data": {
      "text/plain": [
       "<matplotlib.legend.Legend at 0x7fcc999168e0>"
      ]
     },
     "execution_count": 50,
     "metadata": {},
     "output_type": "execute_result"
    },
    {
     "data": {
      "image/png": "[encoded data removed]",
      "text/plain": [
       "<Figure size 432x288 with 1 Axes>"
      ]
     },
     "metadata": {
      "needs_background": "light"
     },
     "output_type": "display_data"
    }
   ],
   "source": [
    "w = Weibull(25,12.887,25.5146)\n",
    "X = w.find_x(0.5)\n",
    "\n",
    "#get_SWT\n",
    "def get_SWT(Nf):\n",
    "    sigma_f = 952.20\n",
    "    epsilon_f = 0.7371\n",
    "    b = -0.0890\n",
    "    c = -0.6640\n",
    "    E = 211600\n",
    "    return (((sigma_f**2)*((2*Nf)**(2*b)))/E)+(sigma_f*epsilon_f*((2*Nf)**(b+c)))\n",
    "\n",
    "def sol_eqn(a,b,c):\n",
    "    D = (b**2)-(4*a*c)\n",
    "    x1 = ((-b)+(math.sqrt(D)))/(2*a)\n",
    "    x2 = ((-b)-(math.sqrt(D)))/(2*a)\n",
    "    return x1,x2\n",
    "\n",
    "def getN0SWT0(Nf1,Nf2):\n",
    "    SWT1 = get_SWT(Nf1)\n",
    "    SWT2 = get_SWT(Nf2)\n",
    "    \n",
    "    a = 1\n",
    "    b = math.log(Nf1)+math.log(Nf2)\n",
    "    c = math.log(Nf1)*math.log(Nf2) - ((X*(math.log(Nf2)-math.log(Nf1)))/(math.log(SWT1)+math.log(SWT2)))\n",
    "    \n",
    "    logN0,_ = sol_eqn(a,b,c)\n",
    "    logSWT0 = math.log(SWT1) - (X/(math.log(Nf1)-logN0))\n",
    "    return logN0,logSWT0\n",
    "\n",
    "# mean of logN0 and logSWT0\n",
    "\n",
    "def meanlogN0logSWT0(Nf):\n",
    "    l = [(i,j) for i in Nf for j in Nf if i!=j]\n",
    "    logN0 = []\n",
    "    logSWT0 = []\n",
    "    for n in l:\n",
    "        try:\n",
    "            logN0_tmp,logSWT0_tmp = getN0SWT0(*n)\n",
    "        except ValueError:\n",
    "            continue\n",
    "        logN0.append(logN0_tmp)\n",
    "        logSWT0.append(logSWT0_tmp)\n",
    "    #plt.hist(logSWT0)\n",
    "    return np.array(logN0).mean(),np.array(logSWT0).mean()\n",
    "    \n",
    "\n",
    "Nf = np.linspace(100,10000000,500)\n",
    "\n",
    "Nfd = np.array([100,900,1000,2000,29683,23489,32526,224728,437357])\n",
    "SWTd = get_SWT(Nfd)\n",
    "#logN0,logSWT0 = meanlogN0logSWT0(Nf)\n",
    "\n",
    "#print(logN0,logSWT0)\n",
    "X0 = w.find_x(0.005)\n",
    "X1 = w.find_x(0.05)\n",
    "X2 = w.find_x(0.5)\n",
    "X3 = w.find_x(0.75)\n",
    "X4 = w.find_x(0.99)\n",
    "\n",
    "pSWT0 = np.exp((X0/(np.log(Nf)- (-np.log(4.1079))))  - np.log(32.4317))\n",
    "pSWT1 = np.exp((X1/(np.log(Nf)- (-np.log(4.1079))))  - np.log(32.4317))\n",
    "pSWT2 = np.exp((X2/(np.log(Nf)- (-np.log(4.1079))))  - np.log(32.4317))\n",
    "pSWT3 = np.exp((X3/(np.log(Nf)- (-np.log(4.1079))))  - np.log(32.4317))\n",
    "pSWT4 = np.exp((X4/(np.log(Nf)- (-np.log(4.1079))))  - np.log(32.4317))\n",
    "\n",
    "plt.xscale('log')\n",
    "plt.yscale('log')\n",
    "plt.plot(Nfd,SWTd,'o')\n",
    "plt.plot(Nf,pSWT0, label=\"pSWT0\")\n",
    "plt.plot(Nf,pSWT1, label=\"pSWT1\")\n",
    "plt.plot(Nf,pSWT2, label=\"pSWT2\")\n",
    "plt.plot(Nf,pSWT3, label=\"pSWT3\")\n",
    "plt.plot(Nf,pSWT4, label=\"pSWT4\")\n",
    "plt.legend()"
   ]
  },
  {
   "cell_type": "code",
   "execution_count": 31,
   "metadata": {},
   "outputs": [
    {
     "data": {
      "text/plain": [
       "1.3862943611198906"
      ]
     },
     "execution_count": 31,
     "metadata": {},
     "output_type": "execute_result"
    }
   ],
   "source": [
    "np.log(4)"
   ]
  }
 ],
 "metadata": {
  "kernelspec": {
   "display_name": "Python 3",
   "language": "python",
   "name": "python3"
  },
  "language_info": {
   "codemirror_mode": {
    "name": "ipython",
    "version": 3
   },
   "file_extension": ".py",
   "mimetype": "text/x-python",
   "name": "python",
   "nbconvert_exporter": "python",
   "pygments_lexer": "ipython3",
   "version": "3.8.2"
  }
 },
 "nbformat": 4,
 "nbformat_minor": 4
}
