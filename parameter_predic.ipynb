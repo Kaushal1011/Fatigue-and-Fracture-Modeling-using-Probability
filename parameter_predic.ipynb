{
 "cells": [
  {
   "cell_type": "markdown",
   "metadata": {},
   "source": [
    "# The Model\n",
    "---\n",
    "#### General information on Weibul Distribution\n",
    "---\n",
    "If $X$ is a random variable denoting the _time to failure_, the __Weibull distribution__ gives a distribution for which the _failure rate_ is proportional to a power of time.\n",
    "\n",
    "$$\n",
    "f_X(x) = \n",
    "\\frac{\\beta}{\\delta}(\\frac{x-\\lambda}{\\delta})^{\\beta-1}e^{-(\\frac{x-\\lambda}{\\delta})^\\beta}\n",
    "$$\n",
    "$$\n",
    "F_X(x;\\lambda,\\delta,\\sigma) = 1-e^{-({\\frac{x-\\lambda}{\\delta}})^\\beta}\n",
    "$$\n",
    "\n",
    "where $\\beta > 0$ is the __shape parameter__, \n",
    "\n",
    "$\\delta > 0$ is the __scale parameter__,\n",
    "\n",
    "$\\lambda > x$ is the __location parameter__ (the minimum value of X).\n",
    "\n",
    "Percentile points,\n",
    "\n",
    "$$\n",
    "x_p = \\lambda + \\delta(-log(1-p))^{\\frac{1}{\\beta}}\n",
    "$$\n",
    "where $0\\leq p\\leq 1$ \n",
    "\n",
    "__Important Properties of Weibull Distribution__\n",
    "\n",
    "- Stable with respect to location and scale\n",
    "$$\n",
    "X \\sim W(\\lambda,\\delta,\\beta) \\iff \\frac{X-a}{b} \\sim W(\\frac{\\lambda-a}{b},\\frac{\\delta}{b},\\beta)\n",
    "$$\n",
    "\n",
    "- It is stable with respect to Minimum Operations.i.e., if $X_1,X_2,X_3,.....X_m$ are independent and identical distribution,then \n",
    "$$\n",
    "X_i\\sim W(\\lambda,\\delta,\\beta) \\iff min(X_1,X_2,....,X_m) \\sim W(\\lambda,\\delta m^{\\frac{1}{\\beta}},\\beta)\n",
    "$$\n",
    "if a set of independent and identical distribution is weibull then its minimum is also a Weibull Random Variable\n",
    "---\n",
    "#### Relevant Variable involved for modeling:\n",
    "---\n",
    "$P$:Probability of fatigue faliure<br>\n",
    "$N$:Number of stress cycles to failure<br>\n",
    "$N_0$:Threshold value of N (min lifetime)<br>\n",
    "$\\Delta\\sigma$:Stress Range<br>\n",
    "$\\Delta\\sigma_0$:Endurance limit<br>\n",
    "\n",
    "Putting Related variables together we have three varaibles(based on II Theorem)<br>\n",
    "$$\n",
    "\\frac{N}{N_0},\\frac{\\Delta\\sigma}{\\Delta\\sigma_0},P \\\\\n",
    "P = q(\\frac{N}{N_0},\\frac{\\Delta\\sigma}{\\Delta\\sigma_0})\n",
    "$$\n",
    "where $q()$ is a function we are to determine<br>\n",
    "so P can be any monotone function of $\\frac{N}{N_0},\\frac{\\Delta\\sigma}{\\Delta\\sigma_0}$ , as $h(\\frac{N}{N_0})$ $\\&$ $g(\\frac{\\Delta\\sigma}{\\Delta\\sigma_0})$\n",
    "\n",
    "We denote them as \n",
    "$$\n",
    "N^* = h(\\frac{N}{N_0}) \\\\\n",
    "\\Delta\\sigma^* = g(\\frac{\\Delta\\sigma}{\\Delta\\sigma_0})\n",
    "$$\n",
    "\n",
    "---\n",
    "#### Justification of Weibull for S-N fields\n",
    "---\n",
    "Considerations for  S-N fields:\n",
    "\n",
    "- __Weakest Link__: Fatigue lifetime of a longitudinal element is the minimum of its constituting particles.Thus we need minimum model for a longitudinal element $L = ml$\n",
    "\n",
    "- __Stability__: The distribution function must hold for different lengths.\n",
    "\n",
    "- __Limit Behaviour__: Need Asymptotic family of Distribution\n",
    "\n",
    "- __Limited Range__: $N^*$ & $\\Delta\\sigma^*$ has finite lower bound,coincide with theoretical end of CDF\n",
    "$$\n",
    "N\\geq N_0 \\\\\n",
    "\\Delta\\sigma \\geq \\Delta\\sigma_0 \n",
    "$$\n",
    "- __Compatibility__: $$E(N^*;\\Delta\\sigma^*) = F(\\Delta\\sigma^*;N^*)$$ i.e., Distribution of $N^*$ can be determined based on given $\\Delta\\sigma^*$ and similarly $\\Delta\\sigma^*$ from $N^*$.\n",
    "\n",
    "___All these are Statisfied by Weibull Distribution___\n",
    "\n",
    "$$E(N^*;\\Delta\\sigma^*) = F(\\Delta\\sigma^*;N^*)$$\n",
    "becomes\n",
    "$$\n",
    "[\\frac{\\Delta\\sigma^*-\\lambda(N^*)}{\\delta(N^*)}] ^{\\beta(N^*)} = [\\frac{N^*-\\lambda(\\Delta\\sigma^*)}{\\delta(\\Delta\\sigma^*)}] ^{\\beta(\\Delta\\sigma^*)}\n",
    "$$\n",
    "\n",
    "Best fitted Solution:\n",
    "$$\n",
    "\\lambda(N^*) = \\frac{\\lambda}{N^* - B} \\\\\n",
    "\\delta(N^*) = \\frac{\\delta}{N^* - B} \\\\\n",
    "\\beta(N^*) = \\beta\n",
    "$$\n",
    "and\n",
    "\n",
    "\n",
    "$$\n",
    "\\lambda(\\Delta\\sigma^*) = \\frac{\\lambda}{\\Delta\\sigma^* - C} \\\\\n",
    "\\delta(\\Delta\\sigma^*) = \\frac{\\delta}{\\Delta\\sigma^* - C} \\\\\n",
    "\\beta(\\Delta\\sigma^*) = \\beta\n",
    "$$\n",
    "\n",
    "results in,\n",
    "$$\n",
    "E[N^*;\\Delta\\sigma^*] = F[\\Delta\\sigma^*;N^*] \\\\ \\\\\n",
    "= 1 - exp\\lbrace -(\\frac{(N^*-B)(\\Delta\\sigma^*-C)-\\lambda}{\\delta})^{\\beta}\\}\n",
    "$$\n",
    "\n",
    "since $\\Delta\\sigma^* \\longrightarrow \\infty$ a lower end for $N^* = h(\\frac{N}{N_0)}) = h(1)$ must exists such that $B = h(1)$,<br>\n",
    "similarly for $N^* \\longrightarrow \\infty$, $C = g(1)$\n",
    "\n",
    "The percentile curve is constant.\n",
    "$$\n",
    "\\frac{N^*\\Delta\\sigma^*  - \\lambda}{\\delta} = constant\n",
    "$$\n",
    "\n",
    "- The Zero-percentile curve represents the minimum possible $N_f$ for different values of $\\Delta\\sigma$ and is a hyperbola\n",
    "As $log$ is used for $N_f$ and $\\Delta\\sigma$ we choose,\n",
    "$$\n",
    "h(x)=g(x) = log(x)\n",
    "$$\n",
    "\n",
    "therefore,\n",
    "$$\n",
    "N^* = log(\\frac{N}{N_0}) \\\\ \\Delta\\sigma^* = log(\\frac{\\Delta\\sigma}{\\Delta\\sigma_0}) \\\\\n",
    "$$\n",
    "\n",
    "$B = C = log(1) = 0$\n",
    "$$E(N^*;\\Delta\\sigma^*) = F(\\Delta\\sigma^*;N^*) \\\\\n",
    "= 1 - exp\\{-(\\frac{N^*\\Delta\\sigma^*}{\\delta})^{\\beta} \\} \n",
    "$$\n",
    "\n",
    "$p$-curves\n",
    "$$\n",
    "log(\\frac{\\Delta\\sigma}{\\Delta\\sigma^*}) = \\frac{\\lambda + \\delta[-log(1-p)]^{\\frac{1}{\\beta}}}{log(\\frac{N}{N_0})}\n",
    "$$\n",
    "\n",
    "Final Distribution\n",
    "$$\n",
    "N^*\\Delta\\sigma^* \\sim W(\\lambda,\\delta,\\beta) \\\\\n",
    "log(\\frac{N}{N_0)})log(\\frac{\\Delta\\sigma}{\\Delta\\sigma_0}) \\sim W(\\lambda,\\delta,\\beta) \\\\\n",
    "log(\\frac{N}{N_0)})\\sim W(\\frac{\\lambda}{log(\\frac{\\Delta\\sigma}{\\Delta\\sigma_0}) },\\frac{\\delta}{log(\\frac{\\Delta\\sigma}{\\Delta\\sigma_0}) },\\beta) \\\\\n",
    "$$\n",
    "\n",
    "---\n",
    "#### Estimation of Threshold Value $(N_0,\\Delta\\sigma_0)$ \n",
    "---\n",
    "$$\n",
    "E[log(\\frac{N}{N_0)}) | log(\\frac{\\Delta\\sigma}{\\Delta\\sigma_0)})] = \\frac{E[N^*\\Delta\\sigma^*]}{log(\\frac{\\Delta\\sigma}{\\Delta\\sigma_0)})} \\\\\n",
    "E[log(N) | log(\\frac{\\Delta\\sigma}{\\Delta\\sigma_0)})] = log(N_0) + \\frac{K}{log(\\frac{\\Delta\\sigma}{\\Delta\\sigma_0)})} \\\\\n",
    "where, K = \\lambda + \\delta\\Gamma(1+\\frac{1}{\\beta})\n",
    "$$\n",
    "Minimize Error Function $Q$\n",
    "$$\n",
    "Q = \\sum_{i=0}^m\\sum_{j=1}^{n_i}(logN_{ij} - logN_0 - \\frac{K}{log\\Delta\\sigma_i - log\\Delta\\sigma_0})^2\n",
    "$$\n",
    "to get $logN_0$ and $log\\Delta\\sigma_0$\n",
    "\n",
    "---\n",
    "#### Estimation of Parameters of Weibull using Probability-Weighted Moments(PWM)\n",
    "---\n",
    "\n",
    "The PWM estimators are given by,\n",
    "$$\n",
    "\\hat{\\beta}_{PWM} = (7.859c + 2.9554c^2 )^{−1}, \\\\\n",
    "\\hat{\\delta}_{PWM} = \\frac{\\bar{x - 2b_1}}{\\Gamma(1+\\frac{1}{\\hat{\\beta}_{PWM}})(1-2^{\\frac{-1}{\\hat{\\beta}_{PWM}}})}, \\\\\n",
    "\\hat{\\lambda}_{PMW} = \\bar{x} - \\hat{\\delta}_{PWM} \\Gamma(1+\\frac{1}{\\hat{\\beta}_{PWM}})\n",
    "$$\n",
    "where $\\bar{x}$ is the sample mean and,\n",
    "$$\n",
    "c = \\frac{2b_1 - \\bar{x}}{3b_2 - \\bar{x}} - \\frac{log2}{log3}, \\\\\n",
    "b_j = n^{-1} \\sum_{i=1}^{n}\\frac{(i-1)(i-2)....(i-j)}{(n-1)(n-2)....(n-j)}x_{n-i+1:n}\n",
    "$$\n",
    "---\n",
    "---"
   ]
  },
  {
   "cell_type": "code",
   "execution_count": 1,
   "metadata": {},
   "outputs": [
    {
     "data": {
      "text/plain": [
       "[<matplotlib.lines.Line2D at 0x1d769c2d8c8>]"
      ]
     },
     "execution_count": 1,
     "metadata": {},
     "output_type": "execute_result"
    },
    {
     "data": {
      "image/png": "[encoded data removed]",
      "text/plain": [
       "<Figure size 432x288 with 1 Axes>"
      ]
     },
     "metadata": {
      "needs_background": "light"
     },
     "output_type": "display_data"
    }
   ],
   "source": [
    "import numpy as np\n",
    "import matplotlib.pyplot as plt\n",
    "\n",
    "Nf_data = [[0.257,0.105,0.217,0.085,0.206,0.083,0.203,0.076,0.143,0.074,0.123,0.072,0.120,0.037,0.109]\n",
    ",[1.129,0.311 ,0.680,0.295 ,0.540,0.257 ,0.509,0.252 ,0.457,0.226 ,0.451,0.216 ,0.356,0.201 ,0.342]\n",
    ",[5.598,2.590 ,5.560,2.410 ,4.820,2.400 ,4.110,1.492 ,3.847,1.460 ,3.590,1.258 ,3.330,1.246 ,2.903]\n",
    ",[67.340,18.620 ,50.090,17.280 ,48.420,16.190 ,36.350,15.580 ,27.940,12.600 ,26.260,9.930 ,24.900,6.710 ,20.300]\n",
    ",[11748,896 ,11748,659 ,3295,486 ,1459,367 ,1400,340 ,1330,280 ,1250,103 ,1242]]\n",
    "\n",
    "stress_data = [0.95,0.90,0.825,0.75,0.675]\n",
    "Nf = np.array(Nf_data)\n",
    "Nf = np.resize(Nf,(75,))\n",
    "    \n",
    "stress = []\n",
    "for i in stress_data:\n",
    "    stress.append(i*np.ones(15))\n",
    "stress = np.resize(np.array(stress),(75,))\n",
    "\n",
    "plt.xscale('log')\n",
    "plt.plot(Nf,stress,'r.',markersize=5)"
   ]
  },
  {
   "cell_type": "code",
   "execution_count": 105,
   "metadata": {},
   "outputs": [],
   "source": [
    "Nf_logged=np.log(Nf)\n",
    "stress_logged=np.log(stress)\n",
    "\n",
    "# def cost(N0log,K,stress0log,Nf_log,stress_log):\n",
    "#     m=5\n",
    "#     n=15\n",
    "#     suminner=0\n",
    "#     sumouter=0\n",
    "#     for i in range(5):\n",
    "#         suminner=0\n",
    "#         for j in range(15):\n",
    "#             suminner+=((Nf_log[i][j]-N0log)-(K/(stress_log[i]-stress0log)))**2\n",
    "#         sumouter+=suminner\n",
    "#     return sumouter\n",
    "# cost(-20.7843,19.731,-1.10607,Nf_logged,stress_logged)"
   ]
  },
  {
   "cell_type": "code",
   "execution_count": 118,
   "metadata": {},
   "outputs": [
    {
     "name": "stdout",
     "output_type": "stream",
     "text": [
      "cost: 8699014.451846045\n",
      "best: 4307.164581460185\n",
      "best: -1.270038976352299 -347.22966751981625 -69643.34416471959 0.5684402621460926\n",
      "[-1.270038976352299, -347.22966751981625, -69643.34416471959]\n"
     ]
    },
    {
     "data": {
      "image/png": "[encoded data removed]",
      "text/plain": [
       "<Figure size 1440x1440 with 5 Axes>"
      ]
     },
     "metadata": {
      "needs_background": "light"
     },
     "output_type": "display_data"
    }
   ],
   "source": [
    "#first guess ?? later\n",
    "\n",
    "\n",
    "# Gradient Descent\n",
    "# theta = [a,b,c]\n",
    "#     m = X.size\n",
    "#     cost =  (Y - (a - (b/(X - c))))**2\n",
    "#     return (1/(2*m))*cost.sum()\n",
    "def cal_cost(a,b,c,X,Y):\n",
    "    m = X.size\n",
    "    cost =  (Y - (a - (b/(X - c))))**2\n",
    "    return (1/(2*m))*cost.sum()\n",
    "\n",
    "# def cal_cost(N0log,K,stress0log,Nf_log,stress_log):\n",
    "#     m=5\n",
    "#     n=15\n",
    "#     suminner=0\n",
    "#     sumouter=0\n",
    "#     for i in range(5):\n",
    "#         suminner=0\n",
    "#         for j in range(15):\n",
    "#             suminner+=((Nf_log[i][j]-N0log)-(K/(stress_log[i]-stress0log)))**2\n",
    "#         sumouter+=suminner\n",
    "#     return (1/(2*m))*sumouter\n",
    "print('cost:',cal_cost(-57.4173,142.27,-2.62708,Nf_logged,stress_logged))\n",
    "print('best:',cal_cost(-20.7843,19.731,-1.10607,Nf_logged,stress_logged))\n",
    "# print('best2:',cal_cost(1.6901670114704652, 141.37814945075246, -129.18527883714967,Nf_,stress))\n",
    "# print('best:',cal_cost(-20.7843,19.731,-1.10607,Nf,stress))\n",
    "\n",
    "def predict(a,b,c,X,Y,learning_rate):\n",
    "    a_dash = (-2)*(Y - (a - (b*(1/(X-c)))))\n",
    "    b_dash = 2*(Y-(a-((b/(X-c)))))*(1/(X-c))\n",
    "    c_dash = 2*(Y-(a-((b/(X-c)))))*(b/(X-c))\n",
    "#     print(a_dash)\n",
    "    a_new = a - learning_rate*(1/X.size)*(a_dash.sum())\n",
    "    b_new = b - learning_rate*(1/X.size)*(b_dash.sum())\n",
    "    c_new = c - learning_rate*(1/X.size)*(c_dash.sum())\n",
    "    return a_new,b_new,c_new\n",
    "    \n",
    "def gradient_descent(a,b,c,X,Y,alpha=0.002,iterations=1000):\n",
    "    cost_history = np.zeros(iterations)\n",
    "    theta_history= np.zeros((iterations,3))\n",
    "    \n",
    "    for i in range(iterations):\n",
    "        a,b,c = predict(a,b,c,X,Y,alpha)\n",
    "        theta_history[i,:] = np.array([a,b,c]) \n",
    "        cost_history[i] = cal_cost(a,b,c,X,Y)\n",
    "    return [a,b,c],theta_history,cost_history\n",
    "\n",
    "theta,theta_history,cost_history = gradient_descent(-57.4173,142.27,-2.62708,Nf_logged,stress_logged)\n",
    "print('best:',theta[0],theta[1],theta[2],cal_cost(theta[0],theta[1],theta[2],Nf_logged,stress_logged))\n",
    "print(theta)\n",
    "plt.figure(figsize=(20,20))\n",
    "plt.subplot(232)\n",
    "plt.plot(cost_history,label='cost')\n",
    "plt.legend()\n",
    "\n",
    "plt.subplot(231)\n",
    "plt.plot(theta_history[:,0],label='logN0')\n",
    "\n",
    "\n",
    "# plt.plot(np.arange(1,1001),heta_history[:,2],label='log(stress)')\n",
    "plt.legend()\n",
    "plt.subplot(233)\n",
    "plt.plot(theta_history[:,1],label='K')\n",
    "plt.legend()\n",
    "plt.subplot(234)\n",
    "plt.plot(theta_history[:,2],label='logS0')\n",
    "plt.legend()\n",
    "plt.subplot(235)\n",
    "plt.plot(theta_history[:,0],label='logN0')\n",
    "plt.plot(theta_history[:,1],label='K')\n",
    "# plt.plot(theta_history[:,2],label='logS0')\n",
    "plt.legend()\n",
    "plt.show()"
   ]
  },
  {
   "cell_type": "code",
   "execution_count": 119,
   "metadata": {},
   "outputs": [
    {
     "data": {
      "text/plain": [
       "[<matplotlib.lines.Line2D at 0x1d76dd26108>,\n",
       " <matplotlib.lines.Line2D at 0x1d76d8f10c8>,\n",
       " <matplotlib.lines.Line2D at 0x1d76e1c76c8>]"
      ]
     },
     "execution_count": 119,
     "metadata": {},
     "output_type": "execute_result"
    },
    {
     "data": {
      "image/png": "[encoded data removed]",
      "text/plain": [
       "<Figure size 432x288 with 1 Axes>"
      ]
     },
     "metadata": {
      "needs_background": "light"
     },
     "output_type": "display_data"
    }
   ],
   "source": [
    "theta_history[-1][1]\n",
    "plt.plot(theta_history)"
   ]
  },
  {
   "cell_type": "code",
   "execution_count": 121,
   "metadata": {},
   "outputs": [
    {
     "data": {
      "image/png": "[encoded data removed]",
      "text/plain": [
       "<Figure size 432x288 with 1 Axes>"
      ]
     },
     "metadata": {
      "needs_background": "light"
     },
     "output_type": "display_data"
    },
    {
     "data": {
      "text/plain": [
       "75"
      ]
     },
     "execution_count": 121,
     "metadata": {},
     "output_type": "execute_result"
    }
   ],
   "source": [
    "import math\n",
    "\n",
    "logN0 = -20.7843\n",
    "K = 19.731\n",
    "logs0 = -1.10607\n",
    "\n",
    "X_ = (Nf_logged-logN0)*(stress_logged-logs0)\n",
    "plt.hist(X_)\n",
    "plt.show()\n",
    "\n",
    "# start from here\n",
    "X_.size\n"
   ]
  },
  {
   "cell_type": "markdown",
   "metadata": {},
   "source": [
    "## PWM estimators \n",
    "\n",
    "beta_pwn=$(7.859c+2.9554c^2)^{-1} $\n"
   ]
  },
  {
   "cell_type": "code",
   "execution_count": 143,
   "metadata": {},
   "outputs": [
    {
     "ename": "ValueError",
     "evalue": "operands could not be broadcast together with shapes (1000,) (75,) ",
     "output_type": "error",
     "traceback": [
      "\u001b[1;31m---------------------------------------------------------------------------\u001b[0m",
      "\u001b[1;31mValueError\u001b[0m                                Traceback (most recent call last)",
      "\u001b[1;32m<ipython-input-143-8d69f9dbea4a>\u001b[0m in \u001b[0;36m<module>\u001b[1;34m\u001b[0m\n\u001b[0;32m      5\u001b[0m \u001b[0mlogs0\u001b[0m \u001b[1;33m=\u001b[0m \u001b[1;33m-\u001b[0m\u001b[1;36m1.10607\u001b[0m\u001b[1;33m\u001b[0m\u001b[1;33m\u001b[0m\u001b[0m\n\u001b[0;32m      6\u001b[0m \u001b[1;33m\u001b[0m\u001b[0m\n\u001b[1;32m----> 7\u001b[1;33m \u001b[0mX_\u001b[0m \u001b[1;33m=\u001b[0m \u001b[1;33m(\u001b[0m\u001b[0mnp\u001b[0m\u001b[1;33m.\u001b[0m\u001b[0mlog\u001b[0m\u001b[1;33m(\u001b[0m\u001b[0mNf\u001b[0m\u001b[1;33m)\u001b[0m\u001b[1;33m-\u001b[0m\u001b[0mlogN0\u001b[0m\u001b[1;33m)\u001b[0m\u001b[1;33m*\u001b[0m\u001b[1;33m(\u001b[0m\u001b[0mnp\u001b[0m\u001b[1;33m.\u001b[0m\u001b[0mlog\u001b[0m\u001b[1;33m(\u001b[0m\u001b[0mstress\u001b[0m\u001b[1;33m)\u001b[0m\u001b[1;33m-\u001b[0m\u001b[0mlogs0\u001b[0m\u001b[1;33m)\u001b[0m\u001b[1;33m\u001b[0m\u001b[1;33m\u001b[0m\u001b[0m\n\u001b[0m\u001b[0;32m      8\u001b[0m \u001b[1;31m# plt.hist(X_)\u001b[0m\u001b[1;33m\u001b[0m\u001b[1;33m\u001b[0m\u001b[1;33m\u001b[0m\u001b[0m\n\u001b[0;32m      9\u001b[0m \u001b[1;31m# plt.show()\u001b[0m\u001b[1;33m\u001b[0m\u001b[1;33m\u001b[0m\u001b[1;33m\u001b[0m\u001b[0m\n",
      "\u001b[1;31mValueError\u001b[0m: operands could not be broadcast together with shapes (1000,) (75,) "
     ]
    }
   ],
   "source": [
    "import math\n",
    "\n",
    "logN0 = -20.7843\n",
    "K = 19.731\n",
    "logs0 = -1.10607\n",
    "\n",
    "X_ = (np.log(Nf)-logN0)*(np.log(stress)-logs0)\n",
    "# plt.hist(X_)\n",
    "# plt.show()\n",
    "\n",
    "def get_b1(X):\n",
    "    n = X_.size\n",
    "    sum_arr = []\n",
    "    for i in range(1,n+1):\n",
    "        sum_arr.append((((i-1)/(n-1))*X_[n-i:n-1]).sum())\n",
    "    sumfin=np.array(sum_arr).sum()*(1/n)\n",
    "    return sumfin/n\n",
    "    \n",
    "#         sum.append((((i-1)/(n-1))*X_[n-i:n-1]).sum())\n",
    "#         return (1/n)*np.array(sum).sum()\n",
    "\n",
    "def get_b2(X):\n",
    "    n = X_.size\n",
    "    sum_arr = []\n",
    "    for i in range(1,n+1):\n",
    "        sum_arr.append(((((i-1)*(i-2))/((n-1)*(n-2)))*X_[n-i:n-1]).sum())\n",
    "    sumfin=np.array(sum_arr).sum()*(1/n)\n",
    "    return sumfin/n\n",
    "\n",
    "xbar=X_.mean()\n",
    "\n",
    "c= ((2*get_b1(X_)-xbar)/(3*get_b2(X_)-xbar))-(math.log(2)/math.log(3))"
   ]
  },
  {
   "cell_type": "code",
   "execution_count": 144,
   "metadata": {},
   "outputs": [
    {
     "data": {
      "text/plain": [
       "0.7023399469340986"
      ]
     },
     "execution_count": 144,
     "metadata": {},
     "output_type": "execute_result"
    }
   ],
   "source": [
    "c"
   ]
  },
  {
   "cell_type": "code",
   "execution_count": 145,
   "metadata": {},
   "outputs": [
    {
     "data": {
      "text/plain": [
       "0.14331711924048826"
      ]
     },
     "execution_count": 145,
     "metadata": {},
     "output_type": "execute_result"
    }
   ],
   "source": [
    "beta_pwm=1/(7.859*c+2.9554*(c**2))\n",
    "beta_pwm"
   ]
  },
  {
   "cell_type": "code",
   "execution_count": 134,
   "metadata": {},
   "outputs": [
    {
     "data": {
      "text/plain": [
       "0.0013973526948502085"
      ]
     },
     "execution_count": 134,
     "metadata": {},
     "output_type": "execute_result"
    }
   ],
   "source": [
    "gamma_pwm = (xbar - 2*get_b1(X_)) /(math.gamma(1+(1/beta_pwm))*(1-(math.pow(2,(-1/beta_pwm)))))\n",
    "gamma_pwm"
   ]
  },
  {
   "cell_type": "code",
   "execution_count": 135,
   "metadata": {},
   "outputs": [
    {
     "data": {
      "text/plain": [
       "-670.6292718741822"
      ]
     },
     "execution_count": 135,
     "metadata": {},
     "output_type": "execute_result"
    }
   ],
   "source": [
    "lambda_pwm = xbar - beta_pwm*math.gamma(1+(1/beta_pwm))\n",
    "lambda_pwm"
   ]
  },
  {
   "cell_type": "code",
   "execution_count": 136,
   "metadata": {},
   "outputs": [
    {
     "name": "stdout",
     "output_type": "stream",
     "text": [
      "X:(the one with 0.5 CDF) 38.21404808292718\n"
     ]
    }
   ],
   "source": [
    "from scipy.special import gamma\n",
    "import math\n",
    "\n",
    "class Weibull:\n",
    "    '''\n",
    "w = Weibull(shape:beta,scale:theta,position:lambda)\n",
    "\n",
    "    '''\n",
    "    def __init__(self,k,lmbda,delta):\n",
    "        self.k = k\n",
    "        self.lmbda = lmbda\n",
    "        self.delta = delta\n",
    "        self.x = (np.random.weibull(k,1000)*lmbda) + delta\n",
    "        _,self.bins  = np.histogram(self.x,100,density=True)\n",
    "\n",
    "\n",
    "    def pdf(self):\n",
    "        x = self.bins\n",
    "        k = self.k\n",
    "        lmbda = self.lmbda\n",
    "        delta =  self.delta\n",
    "        return ((k/lmbda)*((x-delta)/lmbda)**(k-1))*(np.exp(-((x-delta)/lmbda)**k))\n",
    "\n",
    "    def cdf(self):\n",
    "        x = self.bins\n",
    "        k = self.k\n",
    "        lmbda = self.lmbda\n",
    "        delta = self.delta\n",
    "        return 1- np.exp(-((x-delta)/lmbda)**k)\n",
    "\n",
    "    def failure_rate(self):\n",
    "        x = self.x\n",
    "        k = self.k\n",
    "        lmbda = self.lmbda\n",
    "        return (k/lmbda)*((x/lmbda)**(k-1))\n",
    "\n",
    "    def E_x(self):\n",
    "        k = self.k\n",
    "        lmbda = self.lmbda\n",
    "        return lmbda*(gamma(1+1/k))\n",
    "\n",
    "    def var_x(self):\n",
    "        k = self.k\n",
    "        lmbda = self.lmbda\n",
    "        return (lmbda**2)*(gamma(1+(2/k))-((gamma(1+(1/k)))**2))\n",
    "\n",
    "    def plot_pdf(self):\n",
    "        plt.plot(self.bins,self.pdf())\n",
    "    \n",
    "    def plot_cdf(self):\n",
    "        plt.plot(self.bins,self.cdf())\n",
    "\n",
    "    def plot_fr(self):\n",
    "        plt.plot(self.bins,self.failure_rate())\n",
    "    \n",
    "    def plot_hist(self):\n",
    "        plt.hist(self.x)\n",
    "\n",
    "    def find_x(self,F_x):\n",
    "        return (self.lmbda)*((-math.log(1-F_x))**(1/self.k)) + self.delta\n",
    "w = Weibull(25,12.887,25.5146)\n",
    "\n",
    "X = w.find_x(0.5)\n",
    "print('X:(the one with 0.5 CDF)',X)\n"
   ]
  },
  {
   "cell_type": "code",
   "execution_count": 137,
   "metadata": {},
   "outputs": [],
   "source": [
    "Nf = np.linspace(0.001,10000000,1000)"
   ]
  },
  {
   "cell_type": "code",
   "execution_count": 138,
   "metadata": {},
   "outputs": [],
   "source": [
    "w = Weibull(beta_pwm,gamma_pwm,lambda_pwm)"
   ]
  },
  {
   "cell_type": "code",
   "execution_count": 139,
   "metadata": {},
   "outputs": [],
   "source": [
    "X0=w.find_x(0.5)"
   ]
  },
  {
   "cell_type": "code",
   "execution_count": 140,
   "metadata": {},
   "outputs": [
    {
     "data": {
      "text/plain": [
       "-670.6291635662263"
      ]
     },
     "execution_count": 140,
     "metadata": {},
     "output_type": "execute_result"
    }
   ],
   "source": [
    "X0"
   ]
  },
  {
   "cell_type": "code",
   "execution_count": 141,
   "metadata": {},
   "outputs": [],
   "source": [
    "pSWT0 = np.exp((X0/(np.log(Nf)- (-np.log(4.1079))))  - np.log(32.4317))"
   ]
  },
  {
   "cell_type": "code",
   "execution_count": 142,
   "metadata": {},
   "outputs": [
    {
     "data": {
      "text/plain": [
       "[<matplotlib.lines.Line2D at 0x1d76c7f64c8>]"
      ]
     },
     "execution_count": 142,
     "metadata": {},
     "output_type": "execute_result"
    },
    {
     "data": {
      "image/png": "[encoded data removed]",
      "text/plain": [
       "<Figure size 432x288 with 1 Axes>"
      ]
     },
     "metadata": {
      "needs_background": "light"
     },
     "output_type": "display_data"
    }
   ],
   "source": [
    "plt.xscale('log')\n",
    "plt.yscale('log')\n",
    "plt.plot(Nf,pSWT0, label=\"pSWT0\")\n"
   ]
  },
  {
   "cell_type": "code",
   "execution_count": null,
   "metadata": {},
   "outputs": [],
   "source": []
  },
  {
   "cell_type": "code",
   "execution_count": null,
   "metadata": {},
   "outputs": [],
   "source": []
  },
  {
   "cell_type": "code",
   "execution_count": null,
   "metadata": {},
   "outputs": [],
   "source": []
  }
 ],
 "metadata": {
  "kernelspec": {
   "display_name": "Python 3",
   "language": "python",
   "name": "python3"
  },
  "language_info": {
   "codemirror_mode": {
    "name": "ipython",
    "version": 3
   },
   "file_extension": ".py",
   "mimetype": "text/x-python",
   "name": "python",
   "nbconvert_exporter": "python",
   "pygments_lexer": "ipython3",
   "version": "3.8.2"
  }
 },
 "nbformat": 4,
 "nbformat_minor": 4
}
